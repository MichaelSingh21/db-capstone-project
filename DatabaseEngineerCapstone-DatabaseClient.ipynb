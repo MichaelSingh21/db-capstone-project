{
 "cells": [
  {
   "cell_type": "code",
   "execution_count": 5,
   "metadata": {},
   "outputs": [
    {
     "name": "stdout",
     "output_type": "stream",
     "text": [
      "Requirement already satisfied: mysql-connector-python in c:\\users\\migan\\appdata\\local\\programs\\python\\python311\\lib\\site-packages (8.0.32)\n",
      "Requirement already satisfied: protobuf<=3.20.3,>=3.11.0 in c:\\users\\migan\\appdata\\local\\programs\\python\\python311\\lib\\site-packages (from mysql-connector-python) (3.20.3)\n",
      "Note: you may need to restart the kernel to use updated packages.\n"
     ]
    },
    {
     "name": "stderr",
     "output_type": "stream",
     "text": [
      "\n",
      "[notice] A new release of pip available: 22.3.1 -> 23.0\n",
      "[notice] To update, run: python.exe -m pip install --upgrade pip\n"
     ]
    }
   ],
   "source": [
    "#%pip install mysql-connector-python"
   ]
  },
  {
   "attachments": {},
   "cell_type": "markdown",
   "metadata": {},
   "source": [
    "Add Query Functions Tasks"
   ]
  },
  {
   "cell_type": "code",
   "execution_count": 9,
   "metadata": {
    "tags": []
   },
   "outputs": [
    {
     "name": "stdout",
     "output_type": "stream",
     "text": [
      "Connection between MySQL and Python is established.\n",
      "\n",
      "Cursor is created to communicate with the MySQL using Python.\n",
      "\n",
      "[('bookings',), ('customer',), ('menuitem',), ('menuitemcategory',), ('menus',), ('orders',), ('ordersdeliverystatus',), ('staff',), ('staffrole',)]\n",
      "[('John Doe',), ('Frank Garcia',)]\n"
     ]
    }
   ],
   "source": [
    "#Prerequisites\n",
    "\n",
    "# Import the MySQL Connector/Python\n",
    "import mysql.connector as connector\n",
    "\n",
    "# Establish connection between Python and MySQL database via connector API\n",
    "connection=connector.connect(\n",
    "                             user=\"root\", # use your own\n",
    "                             password=\"password\", # use your own\n",
    "                             db=\"littlelemondb\"\n",
    "                            )\n",
    "print(\"Connection between MySQL and Python is established.\\n\")\n",
    "\n",
    "# Create cursor object to communicate with entire MySQL database\n",
    "cursor = connection.cursor()\n",
    "print(\"Cursor is created to communicate with the MySQL using Python.\\n\")\n",
    "\n",
    "if connection.is_connected: #Confirm we are connected before attempting to execute.        \n",
    "        show_tables_query = \"SHOW tables\" \n",
    "        cursor.execute(show_tables_query)\n",
    "        print(cursor.fetchall())\n",
    "        cursor.close()\n",
    "\n",
    "if connection.is_connected: #Confirm we are connected before attempting to execute.\n",
    "    promotion_query = \"select c.FullName from orders o join customer c on c.CustomerID = o.CustomerID where Cost > 60\"\n",
    "    cursor = connection.cursor()\n",
    "    cursor.execute(promotion_query)\n",
    "    print(cursor.fetchall())\n",
    "    cursor.close()\n",
    "\n",
    "connection.close()\n"
   ]
  }
 ],
 "metadata": {
  "kernelspec": {
   "display_name": "Python 3",
   "language": "python",
   "name": "python3"
  },
  "language_info": {
   "codemirror_mode": {
    "name": "ipython",
    "version": 3
   },
   "file_extension": ".py",
   "mimetype": "text/x-python",
   "name": "python",
   "nbconvert_exporter": "python",
   "pygments_lexer": "ipython3",
   "version": "3.11.0"
  },
  "orig_nbformat": 4,
  "vscode": {
   "interpreter": {
    "hash": "1ead2fbcc51b392d284201d9667ccef7ee48adb28ee115b9faa61eb4d2d8cd39"
   }
  }
 },
 "nbformat": 4,
 "nbformat_minor": 2
}
